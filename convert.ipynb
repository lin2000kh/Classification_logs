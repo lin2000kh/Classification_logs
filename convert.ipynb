{
 "cells": [
  {
   "cell_type": "code",
   "execution_count": 1,
   "metadata": {},
   "outputs": [
    {
     "name": "stdout",
     "output_type": "stream",
     "text": [
      "Log file has been converted to 'converted_logs.csv'.\n"
     ]
    }
   ],
   "source": [
    "import pandas as pd\n",
    "import re\n",
    "\n",
    "def parse_log_file(file_path):\n",
    "    with open(file_path, 'r') as file:\n",
    "        logs = file.readlines()\n",
    "\n",
    "    data = []\n",
    "    log_entry = \"\"\n",
    "    timestamp_pattern = re.compile(r'^\\d{4}-\\d{2}-\\d{2}T\\d{2}:\\d{2}:\\d{2}\\.\\d{6}\\+\\d{2}:\\d{2}$')\n",
    "\n",
    "    for line in logs:\n",
    "        if timestamp_pattern.match(line.strip()):\n",
    "            if log_entry:\n",
    "                data.append(log_entry.strip())\n",
    "            log_entry = line.strip() + \" \"\n",
    "        else:\n",
    "            log_entry += line.strip() + \" \"\n",
    "    \n",
    "    if log_entry:\n",
    "        data.append(log_entry.strip())\n",
    "\n",
    "    return pd.DataFrame(data, columns=['log_message'])\n",
    "\n",
    "# Specify the path to your log file\n",
    "file_path = \"C:\\\\Users\\\\AZA\\\\Desktop\\\\PFA\\\\DATA\\\\alert_FRET.log\"\n",
    "\n",
    "\n",
    "# Parse the log file\n",
    "df_logs = parse_log_file(file_path)\n",
    "\n",
    "# Save to CSV\n",
    "csv_file_path = \"converted_logs.csv\"\n",
    "df_logs.to_csv(csv_file_path, index=False)\n",
    "\n",
    "print(f\"Log file has been converted to '{csv_file_path}'.\")\n"
   ]
  }
 ],
 "metadata": {
  "kernelspec": {
   "display_name": "base",
   "language": "python",
   "name": "python3"
  },
  "language_info": {
   "codemirror_mode": {
    "name": "ipython",
    "version": 3
   },
   "file_extension": ".py",
   "mimetype": "text/x-python",
   "name": "python",
   "nbconvert_exporter": "python",
   "pygments_lexer": "ipython3",
   "version": "3.11.7"
  }
 },
 "nbformat": 4,
 "nbformat_minor": 2
}
